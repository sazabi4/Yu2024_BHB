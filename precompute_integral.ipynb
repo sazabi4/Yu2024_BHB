{
 "cells": [
  {
   "cell_type": "markdown",
   "metadata": {},
   "source": [
    "### This notebook precomputes the integral (see Notebook 2) that will otherwise be difficult to evaluate. The precomputed values will be loaded in Notebook 2, and we make interpolation from the precomputed values."
   ]
  },
  {
   "cell_type": "code",
   "execution_count": 2,
   "metadata": {},
   "outputs": [
    {
     "name": "stderr",
     "output_type": "stream",
     "text": [
      "<frozen importlib._bootstrap>:228: RuntimeWarning: scipy._lib.messagestream.MessageStream size changed, may indicate binary incompatibility. Expected 56 from C header, got 64 from PyObject\n"
     ]
    }
   ],
   "source": [
    "import scipy as sp\n",
    "import numpy as np\n",
    "from matplotlib import pyplot as plt\n",
    "from astropy import units as u\n",
    "from astropy.coordinates import SkyCoord\n",
    "import scipy.integrate as integrate\n",
    "\n",
    "\n",
    "from astropy import units as u\n",
    "from astropy.coordinates import SkyCoord"
   ]
  },
  {
   "cell_type": "code",
   "execution_count": 3,
   "metadata": {},
   "outputs": [],
   "source": [
    "filename = \"precomputed_integral_values.txt\" # where the precomputed values will be stored\n"
   ]
  },
  {
   "cell_type": "markdown",
   "metadata": {},
   "source": [
    "We need to consider the distance selection effect and spatial/regional selection effect."
   ]
  },
  {
   "cell_type": "code",
   "execution_count": 5,
   "metadata": {},
   "outputs": [],
   "source": [
    "# Distance Selection Effect, MIN and MAX distance of our catalog\n",
    "d_min = 13.0896\n",
    "d_max = 68.2796\n",
    "\n",
    "# Region Selection Effect, DES footprint coverage\n",
    "ra_min, ra_max, dec_min, dec_max = -60, 100, -70, 10 \n"
   ]
  },
  {
   "cell_type": "code",
   "execution_count": 6,
   "metadata": {},
   "outputs": [],
   "source": [
    "# constant values\n",
    "r_0=8.3 # the distance from the Sun to the Galactic Center\n",
    "r_smooth = 1 # makes the integral OK at 0..."
   ]
  },
  {
   "cell_type": "code",
   "execution_count": 1,
   "metadata": {},
   "outputs": [],
   "source": [
    "\n",
    "def survey_function(l1, b1):\n",
    "    galatic_coord = SkyCoord(l=l1*180/np.pi*u.deg, b=b1*180/np.pi*u.deg, frame='galactic')\n",
    "    icrs_coord = galatic_coord.transform_to('icrs')\n",
    "    ra,dec = icrs_coord.ra.to(u.deg), icrs_coord.dec.to(u.deg)\n",
    "    if ra >180*u.deg:\n",
    "        ra = (180*u.deg)-ra\n",
    "\n",
    "    if ra <ra_min*u.deg or ra >ra_max*u.deg:\n",
    "        return 0\n",
    "    elif dec <dec_min*u.deg or dec >dec_max*u.deg:\n",
    "        return 0\n",
    "    else:\n",
    "        return 1\n",
    "\n",
    "\n",
    "# tranforming each l and b into ra and dec using astropy during the integral evaluation is extremely slow. So transformed the grid for \n",
    "# l and b in advance (same grids as used in the later integral evaluation) and select those (l,d) which correspond to (ra, dec) inside\n",
    "# DES footprint. \n",
    "n = 50\n",
    "b_s = np.linspace(-0.5*np.pi, 0.5*np.pi, n+1)\n",
    "l_s = np.linspace(0*np.pi, 2*np.pi, n+1)\n",
    "selection=np.zeros((len(l_s),b_s.shape[0]))\n",
    "valid_set = []\n",
    "for i in range(len(l_s)):\n",
    "    for j in range(len(b_s)):\n",
    "        selected=survey_function(l_s[i], b_s[j])\n",
    "        selection[i,j] = selected\n",
    "        if selected==1:\n",
    "            valid_set.append((l_s[i], b_s[j]))\n"
   ]
  },
  {
   "cell_type": "code",
   "execution_count": 5,
   "metadata": {},
   "outputs": [],
   "source": [
    "# functions to compute the integral\n",
    "\n",
    "def func_3(b,l,d, alpha):\n",
    "    \"\"\"Return the integrand given l,b,d.\"\"\"\n",
    "    r=np.sqrt(r_0 ** 2 + d ** 2 - 2 * r_0 * d * np.cos(b) * np.cos(l))\n",
    "    if r<20:\n",
    "        return 0\n",
    "    return (d ** 2) * np.cos(b) * np.power(r + r_smooth,\n",
    "                                           -1 * alpha) * ((l,b) in valid_set)\n",
    "\n",
    "\n",
    "# use a 3-fold trapezoidal rule\n",
    "def func_2_inner(b,l, alpha):\n",
    "    \"\"\"For fixed b and l, evaluate the integral on the third variable 'd'.\n",
    "    To evaluate the inner integral, recursively call trapezoidal rule on the integral.\"\"\"\n",
    "\n",
    "    int_range = d_max - d_min\n",
    "    n = int(int_range*2)\n",
    "    d_s = np.linspace(d_min, d_max, n+2)\n",
    "    h = int_range / (n+1) \n",
    "    \n",
    "    f = [func_3(b,l,d, alpha) for d in d_s]\n",
    "    f = np.array(f)\n",
    "    I_trap = (h / 2) * (f[0] + f[n]+2 * sum(f[1:n]))\n",
    "    return I_trap\n",
    "\n",
    "\n",
    "def func_1_inner(l, alpha):\n",
    "    \"\"\"For fixed l, evaluate integral on the second variable 'b'.\n",
    "    To evaluate the inner integral, recursively call trapezoidal rule on the integral.\"\"\"\n",
    "    n = 50\n",
    "    b_s = np.linspace(-0.5 * np.pi, 0.5 * np.pi, n+1)\n",
    "    h = np.pi / n\n",
    "    f = [func_2_inner(b,l,alpha) for b in b_s]\n",
    "    f = np.array(f)\n",
    "    I_trap = (h / 2) * (f[0] + f[n]+2 * sum(f[1:n]))\n",
    "    return I_trap\n",
    "\n",
    "\n",
    "def func_inner(alpha):\n",
    "    \"\"\"Return the integral.\n",
    "    Evaluate on the first variable 'l'.\n",
    "    \"\"\"\n",
    "    n = 50\n",
    "    l_s = np.linspace(0, 2 * np.pi, n+1)\n",
    "    h = 2 * np.pi / n\n",
    "    f = [func_1_inner(l, alpha) for l in l_s]\n",
    "    f = np.array(f)\n",
    "    I_trap = (h / 2) * (f[0] + f[n]+2 * sum(f[1:n]))\n",
    "    return I_trap"
   ]
  },
  {
   "cell_type": "markdown",
   "metadata": {},
   "source": [
    "We evaluate the integral at a grid of 50 evenly-spaced points from 2 to 7 for parameter $\\alpha$."
   ]
  },
  {
   "cell_type": "code",
   "execution_count": 6,
   "metadata": {},
   "outputs": [
    {
     "name": "stdout",
     "output_type": "stream",
     "text": [
      "alpha = 2.0, int=50.127154404773165\n",
      "alpha = 2.1020408163265305, int=34.10332634965969\n",
      "alpha = 2.204081632653061, int=23.22864642169163\n",
      "alpha = 2.306122448979592, int=15.840225701331262\n",
      "alpha = 2.4081632653061225, int=10.814722227381456\n",
      "alpha = 2.510204081632653, int=7.392503389807169\n",
      "alpha = 2.612244897959184, int=5.059351010781693\n",
      "alpha = 2.7142857142857144, int=3.466805429322822\n",
      "alpha = 2.816326530612245, int=2.3784774702517146\n",
      "alpha = 2.9183673469387754, int=1.6338279628617565\n",
      "alpha = 3.020408163265306, int=1.1237076585115013\n",
      "alpha = 3.122448979591837, int=0.7738224642590759\n",
      "alpha = 3.2244897959183674, int=0.5335446319347898\n",
      "alpha = 3.326530612244898, int=0.3683335374363532\n",
      "alpha = 3.428571428571429, int=0.254596088774835\n",
      "alpha = 3.5306122448979593, int=0.17619769712068917\n",
      "alpha = 3.63265306122449, int=0.1220911196260565\n",
      "alpha = 3.7346938775510203, int=0.08470320260739225\n",
      "alpha = 3.836734693877551, int=0.05883602460188762\n",
      "alpha = 3.938775510204082, int=0.04091755474407851\n",
      "alpha = 4.040816326530612, int=0.02849005855071235\n",
      "alpha = 4.142857142857142, int=0.019860407379419243\n",
      "alpha = 4.244897959183674, int=0.01386076920616461\n",
      "alpha = 4.346938775510204, int=0.009684641637772742\n",
      "alpha = 4.448979591836735, int=0.006774371140220873\n",
      "alpha = 4.551020408163265, int=0.004743897825582067\n",
      "alpha = 4.653061224489796, int=0.003325629470974459\n",
      "alpha = 4.755102040816327, int=0.002333863761059829\n",
      "alpha = 4.857142857142858, int=0.0016395733056404475\n",
      "alpha = 4.959183673469388, int=0.001153002342961034\n",
      "alpha = 5.061224489795919, int=0.0008116403666544164\n",
      "alpha = 5.163265306122449, int=0.000571901300592104\n",
      "alpha = 5.26530612244898, int=0.0004033594952051048\n",
      "alpha = 5.36734693877551, int=0.00028475207475418406\n",
      "alpha = 5.469387755102041, int=0.00020120302990133464\n",
      "alpha = 5.571428571428571, int=0.0001422933859186238\n",
      "alpha = 5.673469387755102, int=0.00010071799453665795\n",
      "alpha = 5.775510204081632, int=7.134954487482283e-05\n",
      "alpha = 5.877551020408164, int=5.0585590073408515e-05\n",
      "alpha = 5.979591836734694, int=3.589249935905486e-05\n",
      "alpha = 6.081632653061225, int=2.5486591867299836e-05\n",
      "alpha = 6.183673469387755, int=1.811094316124414e-05\n",
      "alpha = 6.285714285714286, int=1.2878990764072314e-05\n",
      "alpha = 6.387755102040816, int=9.164830915849593e-06\n",
      "alpha = 6.4897959183673475, int=6.526187349065255e-06\n",
      "alpha = 6.591836734693878, int=4.650266811919547e-06\n",
      "alpha = 6.6938775510204085, int=3.3156637082943947e-06\n",
      "alpha = 6.795918367346939, int=2.3655307008873793e-06\n",
      "alpha = 6.8979591836734695, int=1.6886656932765025e-06\n",
      "alpha = 7.0, int=1.20616703404491e-06\n"
     ]
    }
   ],
   "source": [
    "alphas_inner = np.linspace(2,7, 50)\n",
    "interpolation_inner = np.zeros(shape=(len(alphas_inner)))\n",
    "for i in range(len(alphas_inner)):\n",
    "    interpolation_inner[i] = func_inner(alphas_inner[i])\n",
    "    print(f'alpha = {alphas_inner[i]}, int={interpolation_inner[i]}')"
   ]
  },
  {
   "cell_type": "code",
   "execution_count": 7,
   "metadata": {},
   "outputs": [],
   "source": [
    "# store the file\n",
    "np.savetxt(filename, interpolation_inner)"
   ]
  }
 ],
 "metadata": {
  "kernelspec": {
   "display_name": "myenv",
   "language": "python",
   "name": "myenv"
  },
  "language_info": {
   "codemirror_mode": {
    "name": "ipython",
    "version": 3
   },
   "file_extension": ".py",
   "mimetype": "text/x-python",
   "name": "python",
   "nbconvert_exporter": "python",
   "pygments_lexer": "ipython3",
   "version": "3.9.12"
  }
 },
 "nbformat": 4,
 "nbformat_minor": 4
}
